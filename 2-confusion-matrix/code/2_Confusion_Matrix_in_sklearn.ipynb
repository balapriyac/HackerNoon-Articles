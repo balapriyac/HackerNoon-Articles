{
  "nbformat": 4,
  "nbformat_minor": 0,
  "metadata": {
    "colab": {
      "name": "2-Confusion-Matrix-in-sklearn.ipynb",
      "provenance": []
    },
    "kernelspec": {
      "name": "python3",
      "display_name": "Python 3"
    },
    "language_info": {
      "name": "python"
    }
  },
  "cells": [
    {
      "cell_type": "markdown",
      "source": [
        "## 1. Import NumPy"
      ],
      "metadata": {
        "id": "o2553UhF4cda"
      }
    },
    {
      "cell_type": "code",
      "execution_count": null,
      "metadata": {
        "id": "Zendq5i92zSr"
      },
      "outputs": [],
      "source": [
        "import numpy as np"
      ]
    },
    {
      "cell_type": "markdown",
      "source": [
        "## 2. Generate the arrays of true labels and predicted labels"
      ],
      "metadata": {
        "id": "wG2mN1Q74imy"
      }
    },
    {
      "cell_type": "code",
      "source": [
        "# generate an array of 0's and 1's\n",
        "# to mimic the predicted labels\n",
        "y_true = np.random.randint(2,size = 100)\n",
        "y_pred = np.random.randint(2,size = 100)"
      ],
      "metadata": {
        "id": "jYzpU7U-3Tjh"
      },
      "execution_count": null,
      "outputs": []
    },
    {
      "cell_type": "code",
      "source": [
        "print(y_true)\n",
        "print(y_pred)"
      ],
      "metadata": {
        "colab": {
          "base_uri": "https://localhost:8080/"
        },
        "id": "v-TORvXO336c",
        "outputId": "a2d1295d-dc26-404f-b4f7-050c41c1cb75"
      },
      "execution_count": null,
      "outputs": [
        {
          "output_type": "stream",
          "name": "stdout",
          "text": [
            "[1 0 1 1 0 0 0 1 0 1 1 0 0 0 1 1 0 1 1 1 0 1 0 1 1 1 0 0 0 1 1 1 1 0 1 1 0\n",
            " 0 1 1 1 0 1 1 0 0 0 1 0 1 0 1 1 1 1 1 1 0 0 0 0 0 0 0 0 0 1 0 1 0 0 1 0 1\n",
            " 0 0 0 1 1 1 0 1 1 0 1 0 1 1 0 0 1 1 0 1 0 1 1 0 1 1]\n",
            "[1 0 0 1 0 1 0 0 1 1 0 1 1 0 0 1 0 0 0 1 1 0 0 1 1 0 1 1 1 1 1 0 0 1 0 1 0\n",
            " 1 0 0 1 0 1 1 1 0 1 1 0 1 0 0 0 0 0 1 1 0 0 1 0 0 0 1 0 1 0 0 1 1 0 0 1 0\n",
            " 1 0 0 1 1 0 0 0 1 1 0 0 0 0 0 0 0 1 0 1 0 0 0 1 1 1]\n"
          ]
        }
      ]
    },
    {
      "cell_type": "markdown",
      "source": [
        "## 3. Confusion Matrix in scikit-learn"
      ],
      "metadata": {
        "id": "R21nPcAf4py7"
      }
    },
    {
      "cell_type": "code",
      "source": [
        "from sklearn.metrics import confusion_matrix"
      ],
      "metadata": {
        "id": "ywiGLp6y4KWZ"
      },
      "execution_count": null,
      "outputs": []
    },
    {
      "cell_type": "code",
      "source": [
        "print(confusion_matrix(y_true,y_pred))"
      ],
      "metadata": {
        "colab": {
          "base_uri": "https://localhost:8080/"
        },
        "id": "VpC0-mkj4OCJ",
        "outputId": "e9c3190f-28f7-4b5a-e806-064a96f6735c"
      },
      "execution_count": null,
      "outputs": [
        {
          "output_type": "stream",
          "name": "stdout",
          "text": [
            "[[27 20]\n",
            " [28 25]]\n"
          ]
        }
      ]
    },
    {
      "cell_type": "markdown",
      "source": [
        "## 4. Classification Report (Evaluation Metrics) in scikit-learn"
      ],
      "metadata": {
        "id": "rzwvEhW94ukp"
      }
    },
    {
      "cell_type": "code",
      "source": [
        "from sklearn.metrics import classification_report"
      ],
      "metadata": {
        "id": "vWZ2axJO3Gl9"
      },
      "execution_count": null,
      "outputs": []
    },
    {
      "cell_type": "code",
      "source": [
        "class_labels = [\"class 0\",\"class 1\"]"
      ],
      "metadata": {
        "id": "Adsm02Fz3K_X"
      },
      "execution_count": null,
      "outputs": []
    },
    {
      "cell_type": "code",
      "source": [
        "print(classification_report(y_true, y_pred, target_names = class_labels))"
      ],
      "metadata": {
        "colab": {
          "base_uri": "https://localhost:8080/"
        },
        "id": "vOFYN_Bj3WHb",
        "outputId": "95439eba-8ee4-4100-c49c-c02baf19e813"
      },
      "execution_count": null,
      "outputs": [
        {
          "output_type": "stream",
          "name": "stdout",
          "text": [
            "              precision    recall  f1-score   support\n",
            "\n",
            "     class 0       0.49      0.57      0.53        47\n",
            "     class 1       0.56      0.47      0.51        53\n",
            "\n",
            "    accuracy                           0.52       100\n",
            "   macro avg       0.52      0.52      0.52       100\n",
            "weighted avg       0.53      0.52      0.52       100\n",
            "\n"
          ]
        }
      ]
    }
  ]
}