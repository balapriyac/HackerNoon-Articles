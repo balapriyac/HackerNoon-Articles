{
  "nbformat": 4,
  "nbformat_minor": 0,
  "metadata": {
    "colab": {
      "name": "Document-Term-Matrix-in-NLP.ipynb",
      "provenance": []
    },
    "kernelspec": {
      "name": "python3",
      "display_name": "Python 3"
    },
    "language_info": {
      "name": "python"
    }
  },
  "cells": [
    {
      "cell_type": "code",
      "execution_count": 1,
      "metadata": {
        "id": "fF22AXvEKult"
      },
      "outputs": [],
      "source": [
        "text=[\"Computer programming is the process of designing and building an executable computer program to accomplish a specific computing result or to perform a specific task.\",\n",
        "      \"Programming involves tasks such as: analysis, generating algorithms, profiling algorithms' accuracy and resource consumption, and the implementation of algorithms in a chosen programming language (commonly referred to as coding).\",\n",
        "      \"The source code of a program is written in one or more languages that are intelligible to programmers, rather than machine code, which is directly executed by the central processing unit.\",\n",
        "      \"The purpose of programming is to find a sequence of instructions that will automate the performance of a task (which can be as complex as an operating system) on a computer, often for solving a given problem.\",\n",
        "      \"Proficient programming thus often requires expertise in several different subjects, including knowledge of the application domain, specialized algorithms, and formal logic.\",\n",
        "      \"Tasks accompanying and related to programming include: testing, debugging, source code maintenance, implementation of build systems, and management of derived artifacts, such as the machine code of computer programs.\",\n",
        "      \"These might be considered part of the programming process, but often the term software development is used for this larger process with the term programming, implementation, or coding reserved for the actual writing of code.\",\n",
        "      \"Software engineering combines engineering techniques with software development practices.\",\n",
        "      \"Reverse engineering is a related process used by designers, analysts and programmers to understand and re-create/re-implement\"]"
      ]
    },
    {
      "cell_type": "code",
      "source": [
        "from sklearn.feature_extraction.text import TfidfVectorizer"
      ],
      "metadata": {
        "id": "QPyDAiepLUP2"
      },
      "execution_count": 2,
      "outputs": []
    },
    {
      "cell_type": "code",
      "source": [
        "vectorizer = TfidfVectorizer(stop_words='english',smooth_idf=True)"
      ],
      "metadata": {
        "id": "hamMRK5nLXrL"
      },
      "execution_count": 3,
      "outputs": []
    },
    {
      "cell_type": "code",
      "source": [
        "input_matrix = vectorizer.fit_transform(text)\n",
        "\n",
        "print(input_matrix)"
      ],
      "metadata": {
        "colab": {
          "base_uri": "https://localhost:8080/"
        },
        "id": "olPhC_x_LZw8",
        "outputId": "74b2e93c-fc11-4039-b852-b003edddba31"
      },
      "execution_count": 4,
      "outputs": [
        {
          "output_type": "stream",
          "name": "stdout",
          "text": [
            "  (0, 83)\t0.21527315443847012\n",
            "  (0, 55)\t0.25487697925239533\n",
            "  (0, 73)\t0.25487697925239533\n",
            "  (0, 20)\t0.25487697925239533\n",
            "  (0, 80)\t0.5097539585047907\n",
            "  (0, 1)\t0.25487697925239533\n",
            "  (0, 63)\t0.21527315443847012\n",
            "  (0, 33)\t0.25487697925239533\n",
            "  (0, 11)\t0.25487697925239533\n",
            "  (0, 27)\t0.25487697925239533\n",
            "  (0, 59)\t0.18717379355228525\n",
            "  (0, 65)\t0.13251329333832138\n",
            "  (0, 19)\t0.3743475871045705\n",
            "  (1, 15)\t0.18669175063728236\n",
            "  (1, 68)\t0.22103745159442253\n",
            "  (1, 17)\t0.22103745159442253\n",
            "  (1, 47)\t0.22103745159442253\n",
            "  (1, 13)\t0.22103745159442253\n",
            "  (1, 40)\t0.16232308799881096\n",
            "  (1, 22)\t0.22103745159442253\n",
            "  (1, 72)\t0.22103745159442253\n",
            "  (1, 2)\t0.22103745159442253\n",
            "  (1, 62)\t0.22103745159442253\n",
            "  (1, 4)\t0.560075251911847\n",
            "  (1, 37)\t0.22103745159442253\n",
            "  :\t:\n",
            "  (6, 76)\t0.21003769789345106\n",
            "  (6, 86)\t0.4973567104347065\n",
            "  (6, 21)\t0.24867835521735324\n",
            "  (6, 14)\t0.18262171521690024\n",
            "  (6, 15)\t0.21003769789345106\n",
            "  (6, 40)\t0.18262171521690024\n",
            "  (6, 59)\t0.3652434304338005\n",
            "  (6, 65)\t0.2585811235558946\n",
            "  (7, 57)\t0.3258109572935077\n",
            "  (7, 85)\t0.3258109572935077\n",
            "  (7, 16)\t0.3258109572935077\n",
            "  (7, 32)\t0.5503702431888572\n",
            "  (7, 28)\t0.2751851215944286\n",
            "  (7, 76)\t0.5503702431888572\n",
            "  (8, 39)\t0.3262889826528752\n",
            "  (8, 23)\t0.3262889826528752\n",
            "  (8, 88)\t0.3262889826528752\n",
            "  (8, 6)\t0.3262889826528752\n",
            "  (8, 26)\t0.3262889826528752\n",
            "  (8, 74)\t0.3262889826528752\n",
            "  (8, 32)\t0.27558886942333993\n",
            "  (8, 90)\t0.27558886942333993\n",
            "  (8, 69)\t0.27558886942333993\n",
            "  (8, 64)\t0.27558886942333993\n",
            "  (8, 59)\t0.2396165666141874\n"
          ]
        }
      ]
    },
    {
      "cell_type": "code",
      "source": [
        "input_matrix = vectorizer.fit_transform(text).todense()"
      ],
      "metadata": {
        "id": "ZM7cgmwuLcfi"
      },
      "execution_count": 5,
      "outputs": []
    },
    {
      "cell_type": "code",
      "source": [
        "print(input_matrix)"
      ],
      "metadata": {
        "colab": {
          "base_uri": "https://localhost:8080/"
        },
        "id": "OMglII0mLfoL",
        "outputId": "7b45da8a-eb76-4bd2-ba31-cc5af2e40b0d"
      },
      "execution_count": 6,
      "outputs": [
        {
          "output_type": "stream",
          "name": "stdout",
          "text": [
            "[[0.         0.25487698 0.         0.         0.         0.\n",
            "  0.         0.         0.         0.         0.         0.25487698\n",
            "  0.         0.         0.         0.         0.         0.\n",
            "  0.         0.37434759 0.25487698 0.         0.         0.\n",
            "  0.         0.         0.         0.25487698 0.         0.\n",
            "  0.         0.         0.         0.25487698 0.         0.\n",
            "  0.         0.         0.         0.         0.         0.\n",
            "  0.         0.         0.         0.         0.         0.\n",
            "  0.         0.         0.         0.         0.         0.\n",
            "  0.         0.25487698 0.         0.         0.         0.18717379\n",
            "  0.         0.         0.         0.21527315 0.         0.13251329\n",
            "  0.         0.         0.         0.         0.         0.\n",
            "  0.         0.25487698 0.         0.         0.         0.\n",
            "  0.         0.         0.50975396 0.         0.         0.21527315\n",
            "  0.         0.         0.         0.         0.         0.\n",
            "  0.         0.         0.        ]\n",
            " [0.         0.         0.22103745 0.         0.56007525 0.22103745\n",
            "  0.         0.         0.         0.         0.         0.\n",
            "  0.         0.22103745 0.         0.18669175 0.         0.22103745\n",
            "  0.         0.         0.         0.         0.22103745 0.\n",
            "  0.         0.         0.         0.         0.         0.\n",
            "  0.         0.         0.         0.         0.         0.\n",
            "  0.         0.22103745 0.         0.         0.16232309 0.\n",
            "  0.         0.         0.         0.22103745 0.         0.22103745\n",
            "  0.         0.         0.         0.         0.         0.\n",
            "  0.         0.         0.         0.         0.         0.\n",
            "  0.         0.         0.22103745 0.         0.         0.22983952\n",
            "  0.         0.         0.22103745 0.         0.         0.\n",
            "  0.22103745 0.         0.         0.         0.         0.\n",
            "  0.         0.         0.         0.         0.         0.\n",
            "  0.18669175 0.         0.         0.         0.         0.\n",
            "  0.         0.         0.        ]\n",
            " [0.         0.         0.         0.         0.         0.\n",
            "  0.         0.         0.         0.         0.         0.\n",
            "  0.27723607 0.         0.40718723 0.         0.         0.\n",
            "  0.         0.         0.         0.         0.         0.\n",
            "  0.         0.         0.         0.         0.         0.\n",
            "  0.27723607 0.         0.         0.         0.27723607 0.\n",
            "  0.         0.         0.         0.         0.         0.\n",
            "  0.         0.         0.27723607 0.         0.         0.\n",
            "  0.27723607 0.         0.         0.23415799 0.         0.\n",
            "  0.         0.         0.         0.         0.         0.\n",
            "  0.27723607 0.         0.         0.23415799 0.23415799 0.\n",
            "  0.         0.         0.         0.         0.         0.\n",
            "  0.         0.         0.         0.         0.         0.\n",
            "  0.23415799 0.         0.         0.         0.         0.\n",
            "  0.         0.         0.         0.         0.         0.27723607\n",
            "  0.         0.         0.27723607]\n",
            " [0.         0.         0.         0.         0.         0.\n",
            "  0.         0.         0.         0.29458971 0.         0.\n",
            "  0.         0.         0.         0.         0.         0.\n",
            "  0.29458971 0.2163376  0.         0.         0.         0.\n",
            "  0.         0.         0.         0.         0.         0.\n",
            "  0.         0.         0.         0.         0.         0.\n",
            "  0.         0.         0.29458971 0.         0.         0.\n",
            "  0.         0.29458971 0.         0.         0.         0.\n",
            "  0.         0.         0.         0.         0.         0.\n",
            "  0.29458971 0.         0.29458971 0.         0.29458971 0.\n",
            "  0.         0.         0.         0.         0.         0.15316037\n",
            "  0.         0.29458971 0.         0.         0.         0.\n",
            "  0.         0.         0.         0.29458971 0.         0.29458971\n",
            "  0.         0.         0.         0.         0.         0.24881516\n",
            "  0.         0.         0.         0.         0.         0.\n",
            "  0.         0.         0.        ]\n",
            " [0.         0.         0.         0.         0.23440146 0.\n",
            "  0.         0.27752432 0.         0.         0.         0.\n",
            "  0.         0.         0.         0.         0.         0.\n",
            "  0.         0.         0.         0.         0.         0.\n",
            "  0.         0.         0.         0.         0.         0.27752432\n",
            "  0.         0.27752432 0.         0.         0.         0.27752432\n",
            "  0.27752432 0.         0.         0.         0.         0.\n",
            "  0.27752432 0.         0.         0.         0.27752432 0.\n",
            "  0.         0.         0.27752432 0.         0.         0.\n",
            "  0.         0.         0.         0.         0.         0.\n",
            "  0.         0.27752432 0.         0.         0.         0.14428789\n",
            "  0.         0.         0.         0.         0.27752432 0.\n",
            "  0.         0.         0.         0.         0.         0.\n",
            "  0.         0.27752432 0.         0.27752432 0.         0.\n",
            "  0.         0.         0.         0.         0.         0.\n",
            "  0.         0.         0.        ]\n",
            " [0.24001045 0.         0.         0.         0.         0.\n",
            "  0.         0.         0.24001045 0.         0.24001045 0.\n",
            "  0.         0.         0.35251254 0.         0.         0.\n",
            "  0.         0.17625627 0.         0.         0.         0.\n",
            "  0.24001045 0.24001045 0.         0.         0.         0.\n",
            "  0.         0.         0.         0.         0.         0.\n",
            "  0.         0.         0.         0.         0.17625627 0.24001045\n",
            "  0.         0.         0.         0.         0.         0.\n",
            "  0.         0.         0.         0.20271664 0.24001045 0.24001045\n",
            "  0.         0.         0.         0.         0.         0.\n",
            "  0.         0.         0.         0.         0.         0.12478402\n",
            "  0.24001045 0.         0.         0.20271664 0.         0.\n",
            "  0.         0.         0.         0.         0.         0.\n",
            "  0.20271664 0.         0.         0.         0.24001045 0.\n",
            "  0.20271664 0.         0.         0.24001045 0.         0.\n",
            "  0.         0.         0.        ]\n",
            " [0.         0.         0.         0.24867836 0.         0.\n",
            "  0.         0.         0.         0.         0.         0.\n",
            "  0.         0.         0.18262172 0.2100377  0.         0.\n",
            "  0.         0.         0.         0.24867836 0.         0.\n",
            "  0.         0.         0.         0.         0.2100377  0.\n",
            "  0.         0.         0.         0.         0.         0.\n",
            "  0.         0.         0.         0.         0.18262172 0.\n",
            "  0.         0.         0.         0.         0.         0.\n",
            "  0.         0.24867836 0.         0.         0.         0.\n",
            "  0.         0.         0.         0.         0.         0.36524343\n",
            "  0.         0.         0.         0.         0.         0.25858112\n",
            "  0.         0.         0.         0.         0.         0.24867836\n",
            "  0.         0.         0.         0.         0.2100377  0.\n",
            "  0.         0.         0.         0.         0.         0.\n",
            "  0.         0.         0.49735671 0.         0.         0.\n",
            "  0.2100377  0.24867836 0.        ]\n",
            " [0.         0.         0.         0.         0.         0.\n",
            "  0.         0.         0.         0.         0.         0.\n",
            "  0.         0.         0.         0.         0.32581096 0.\n",
            "  0.         0.         0.         0.         0.         0.\n",
            "  0.         0.         0.         0.         0.27518512 0.\n",
            "  0.         0.         0.55037024 0.         0.         0.\n",
            "  0.         0.         0.         0.         0.         0.\n",
            "  0.         0.         0.         0.         0.         0.\n",
            "  0.         0.         0.         0.         0.         0.\n",
            "  0.         0.         0.         0.32581096 0.         0.\n",
            "  0.         0.         0.         0.         0.         0.\n",
            "  0.         0.         0.         0.         0.         0.\n",
            "  0.         0.         0.         0.         0.55037024 0.\n",
            "  0.         0.         0.         0.         0.         0.\n",
            "  0.         0.32581096 0.         0.         0.         0.\n",
            "  0.         0.         0.        ]\n",
            " [0.         0.         0.         0.         0.         0.\n",
            "  0.32628898 0.         0.         0.         0.         0.\n",
            "  0.         0.         0.         0.         0.         0.\n",
            "  0.         0.         0.         0.         0.         0.32628898\n",
            "  0.         0.         0.32628898 0.         0.         0.\n",
            "  0.         0.         0.27558887 0.         0.         0.\n",
            "  0.         0.         0.         0.32628898 0.         0.\n",
            "  0.         0.         0.         0.         0.         0.\n",
            "  0.         0.         0.         0.         0.         0.\n",
            "  0.         0.         0.         0.         0.         0.23961657\n",
            "  0.         0.         0.         0.         0.27558887 0.\n",
            "  0.         0.         0.         0.27558887 0.         0.\n",
            "  0.         0.         0.32628898 0.         0.         0.\n",
            "  0.         0.         0.         0.         0.         0.\n",
            "  0.         0.         0.         0.         0.32628898 0.\n",
            "  0.27558887 0.         0.        ]]\n"
          ]
        }
      ]
    }
  ]
}